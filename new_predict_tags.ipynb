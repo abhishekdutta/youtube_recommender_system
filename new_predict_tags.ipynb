{
 "cells": [
  {
   "cell_type": "code",
   "execution_count": 1,
   "metadata": {
    "collapsed": true
   },
   "outputs": [],
   "source": [
    "import numpy as np\n",
    "from sklearn.pipeline import Pipeline\n",
    "from sklearn.feature_extraction.text import CountVectorizer\n",
    "from sklearn.svm import LinearSVC\n",
    "from sklearn.feature_extraction.text import TfidfTransformer\n",
    "from sklearn.multiclass import OneVsRestClassifier\n",
    "from sklearn.preprocessing import MultiLabelBinarizer\n",
    "from sklearn.metrics import jaccard_similarity_score\n",
    "from sklearn.metrics import hamming_loss"
   ]
  },
  {
   "cell_type": "code",
   "execution_count": 2,
   "metadata": {
    "collapsed": true
   },
   "outputs": [],
   "source": [
    "X_train = np.array([\"taylor swift, live at new york city\",\n",
    "                    \"pizza, learn to make pizza\",\n",
    "                    \"guitar, play the guitar\",\n",
    "                    \"football, semifinal match\",\n",
    "                    \"pasta, quick recipe\",\n",
    "                    \"weather, the current forecast\",\n",
    "                    \"call of duty, the new game series\",\n",
    "                    \"the big bang theory, the new season on cbs\",\n",
    "                    \"john lennon, performing at chicago\",\n",
    "                    \"wwe, live at providence\",\n",
    "                    \"conjuring, the horror is real\",\n",
    "                    \"gta, the action game\",\n",
    "                    \"cricket, final match\",\n",
    "                    \"drums, cool tricks\",\n",
    "                    \"noodles, traditional chinese style\",\n",
    "                    \"russel, peters funny reactions\"])\n",
    "y_train_text = [[\"concert\", \"performance\"],[\"food\"],[\"music\", \"performance\"],[\"sports\", \"entertainment\"],[\"food\"],\n",
    "                [\"television\"],[\"games\"],[\"television\"],[\"concert\", \"performance\"],[\"sports, entertainment, performance\"],\n",
    "                [\"television\", \"entertainment\"],[\"games\"],[\"sports\", \"entertainment\"],[\"music\", \"performance\"],[\"food\"],[\"entertainment\"]]"
   ]
  },
  {
   "cell_type": "code",
   "execution_count": 3,
   "metadata": {
    "collapsed": true
   },
   "outputs": [],
   "source": [
    "X_test = np.array(['miley cirus, live at denver city',\n",
    "                   'rice, quick tips',\n",
    "                   'violen, play the guitar with violen',\n",
    "                   'tennis, quaterfinal match',\n",
    "                   'friends, new season on cbs',\n",
    "                   'piano, cool and simple tricks',\n",
    "                   'counter strike, best action gaming series',\n",
    "                   'knock once, horror strikes again',\n",
    "                   'sheldon cooper, funny posts',\n",
    "                   'wwe, live at ohio'])\n",
    "\n",
    "Y_test = [[\"concert\", \"performance\"],[\"food\"],[\"music\", \"performance\"],[\"sports\", \"entertainment\"],[\"television\"],[\"music\", \"performance\"],[\"games\"],[\"television\", \"entertainment\"],[\"entertainment\"],[\"sports, entertainment, performance\"]]\n",
    "\n",
    "target_names = ['concert', 'performance', 'food', 'music', 'sports', 'entertainment', 'television', 'games', 'performance']"
   ]
  },
  {
   "cell_type": "code",
   "execution_count": 4,
   "metadata": {
    "collapsed": true
   },
   "outputs": [],
   "source": [
    "mlb = MultiLabelBinarizer()\n",
    "Y = mlb.fit_transform(y_train_text)"
   ]
  },
  {
   "cell_type": "code",
   "execution_count": 5,
   "metadata": {
    "collapsed": true
   },
   "outputs": [],
   "source": [
    "classifier = Pipeline([\n",
    "    ('vectorizer', CountVectorizer()),\n",
    "    ('tfidf', TfidfTransformer()),\n",
    "    ('clf', OneVsRestClassifier(LinearSVC()))])"
   ]
  },
  {
   "cell_type": "code",
   "execution_count": 6,
   "metadata": {
    "collapsed": false
   },
   "outputs": [
    {
     "data": {
      "text/plain": [
       "Pipeline(steps=[('vectorizer', CountVectorizer(analyzer='word', binary=False, decode_error='strict',\n",
       "        dtype=<class 'numpy.int64'>, encoding='utf-8', input='content',\n",
       "        lowercase=True, max_df=1.0, max_features=None, min_df=1,\n",
       "        ngram_range=(1, 1), preprocessor=None, stop_words=None,\n",
       "       ...lti_class='ovr', penalty='l2', random_state=None, tol=0.0001,\n",
       "     verbose=0),\n",
       "          n_jobs=1))])"
      ]
     },
     "execution_count": 6,
     "metadata": {},
     "output_type": "execute_result"
    }
   ],
   "source": [
    "classifier.fit(X_train, Y)"
   ]
  },
  {
   "cell_type": "code",
   "execution_count": 7,
   "metadata": {
    "collapsed": true
   },
   "outputs": [],
   "source": [
    "predicted = classifier.predict(X_test)"
   ]
  },
  {
   "cell_type": "code",
   "execution_count": 8,
   "metadata": {
    "collapsed": true
   },
   "outputs": [],
   "source": [
    "text_labels = mlb.inverse_transform(predicted)"
   ]
  },
  {
   "cell_type": "code",
   "execution_count": 9,
   "metadata": {
    "collapsed": false
   },
   "outputs": [
    {
     "name": "stdout",
     "output_type": "stream",
     "text": [
      "miley cirus, live at denver city => performance\n",
      "rice, quick tips => food\n",
      "violen, play the guitar with violen => music, performance\n",
      "tennis, quaterfinal match => entertainment, sports\n",
      "friends, new season on cbs => television\n",
      "piano, cool and simple tricks => music, performance\n",
      "counter strike, best action gaming series => games\n",
      "knock once, horror strikes again => entertainment\n",
      "sheldon cooper, funny posts => entertainment\n",
      "wwe, live at ohio => sports, entertainment, performance\n"
     ]
    }
   ],
   "source": [
    "for test_text, predict_labels in zip(X_test, text_labels):\n",
    "    print('{0} => {1}'.format(test_text, ', '.join(predict_labels)))"
   ]
  },
  {
   "cell_type": "code",
   "execution_count": 10,
   "metadata": {
    "collapsed": true
   },
   "outputs": [],
   "source": [
    "Y_new = mlb.fit_transform(Y_test)"
   ]
  },
  {
   "cell_type": "code",
   "execution_count": 11,
   "metadata": {
    "collapsed": false
   },
   "outputs": [
    {
     "name": "stdout",
     "output_type": "stream",
     "text": [
      "Accuracy = 0.9777777777777777\n"
     ]
    }
   ],
   "source": [
    "print(\"Accuracy = \" + str(1-hamming_loss(np.array(predicted),np.array(Y_new))))"
   ]
  },
  {
   "cell_type": "code",
   "execution_count": null,
   "metadata": {
    "collapsed": true
   },
   "outputs": [],
   "source": []
  }
 ],
 "metadata": {
  "kernelspec": {
   "display_name": "Python 3",
   "language": "python",
   "name": "python3"
  },
  "language_info": {
   "codemirror_mode": {
    "name": "ipython",
    "version": 3
   },
   "file_extension": ".py",
   "mimetype": "text/x-python",
   "name": "python",
   "nbconvert_exporter": "python",
   "pygments_lexer": "ipython3",
   "version": "3.6.0"
  }
 },
 "nbformat": 4,
 "nbformat_minor": 2
}
