{
 "cells": [
  {
   "cell_type": "code",
   "execution_count": 1,
   "metadata": {
    "collapsed": false
   },
   "outputs": [],
   "source": [
    "from nltk.sentiment.vader import SentimentIntensityAnalyzer\n",
    "from nltk import tokenize"
   ]
  },
  {
   "cell_type": "code",
   "execution_count": 2,
   "metadata": {
    "collapsed": true
   },
   "outputs": [],
   "source": [
    "texts = [\"This is good, catchy, and hillarious.\", \n",
    "\"This is intellectual, awesome, and hillarious!\", \n",
    "\"This is very intellectual, awesome, and hillarious.\",  \n",
    "\"This is VERY intellectual, awesome, and HILLARIOUS.\",  \n",
    "\"This is VERY intellectual, awesome, and HILLARIOUS!!!\",\n",
    "\"This is VERY intellectual, really awesome, and INCREDIBLY Hillarious!!!\",\n",
    "\"The movie was fine.\",        \n",
    "\"The movie was a one time watch.\",  \n",
    "\"The plot was amazing, but the characters are boring and the dialog is not great.\", \n",
    "\"A really bad, horrible book.\",       \n",
    "\"At least it isn't a horrible book.\", \n",
    "\":) and :D\",     \n",
    "\"\",             \n",
    "\"Today was cool\",     \n",
    "\"This was dope!\",    \n",
    "\"This was pathetic!\",    \n",
    "\"This kinda was creepy! But there were a lot of lol moments\" \n",
    "]\n",
    "\n",
    "#Examples include:-\n",
    "\n",
    "# positive sentence example\n",
    "# punctuation shows emphasis \n",
    "# sample positive words \n",
    "# emphasis for CAPS \n",
    "# combination of words\n",
    "# positive words and punctuation (higher score)\n",
    "# positive sentence\n",
    "# qualified as positive sentence\n",
    "# mixed negation sentence\n",
    "# negative sentence with negative words\n",
    "# negated negative sentence \n",
    "# emoticons \n",
    "# empty string \n",
    "# positive slang   \n",
    "# negative slang with punctuation \n",
    "# negative slang with punctuation \n",
    "# mixed sentiment example "
   ]
  },
  {
   "cell_type": "code",
   "execution_count": 3,
   "metadata": {
    "collapsed": false
   },
   "outputs": [],
   "source": [
    "para = \"This was one of the worst movies I've seen, despite awesome reviews. \\\n",
    "Unbelievably bad acting!! Poor narration. VERY poor production. \\\n",
    "The movie was poor. Very bad show. VERY bad indeed. VERY BAD video. VERY BAD quality!\""
   ]
  },
  {
   "cell_type": "code",
   "execution_count": 4,
   "metadata": {
    "collapsed": true
   },
   "outputs": [],
   "source": [
    "title = \"Trailer of Knock once\""
   ]
  },
  {
   "cell_type": "code",
   "execution_count": 5,
   "metadata": {
    "collapsed": true
   },
   "outputs": [],
   "source": [
    "description = \"This is a trailer of the new upcoming horror movie!!!!\""
   ]
  },
  {
   "cell_type": "code",
   "execution_count": 6,
   "metadata": {
    "collapsed": true
   },
   "outputs": [],
   "source": [
    "lines_list = tokenize.sent_tokenize(para)\n",
    "texts.extend(lines_list)\n",
    "texts.append(title)\n",
    "texts.append(description)"
   ]
  },
  {
   "cell_type": "code",
   "execution_count": 7,
   "metadata": {
    "collapsed": false
   },
   "outputs": [
    {
     "name": "stdout",
     "output_type": "stream",
     "text": [
      "This is good, catchy, and hillarious.\n",
      "compound: 0.4404, neg: 0.0, neu: 0.633, pos: 0.367, \n",
      "This is intellectual, awesome, and hillarious!\n",
      "compound: 0.8268, neg: 0.0, neu: 0.342, pos: 0.658, \n",
      "This is very intellectual, awesome, and hillarious.\n",
      "compound: 0.839, neg: 0.0, neu: 0.385, pos: 0.615, \n",
      "This is VERY intellectual, awesome, and HILLARIOUS.\n",
      "compound: 0.886, neg: 0.0, neu: 0.347, pos: 0.653, \n",
      "This is VERY intellectual, awesome, and HILLARIOUS!!!\n",
      "compound: 0.9057, neg: 0.0, neu: 0.327, pos: 0.673, \n",
      "This is VERY intellectual, really awesome, and INCREDIBLY Hillarious!!!\n",
      "compound: 0.9103, neg: 0.0, neu: 0.4, pos: 0.6, \n",
      "The movie was fine.\n",
      "compound: 0.2023, neg: 0.0, neu: 0.625, pos: 0.375, \n",
      "The movie was a one time watch.\n",
      "compound: 0.0, neg: 0.0, neu: 1.0, pos: 0.0, \n",
      "The plot was amazing, but the characters are boring and the dialog is not great.\n",
      "compound: -0.7176, neg: 0.339, neu: 0.551, pos: 0.11, \n",
      "A really bad, horrible book.\n",
      "compound: -0.8211, neg: 0.791, neu: 0.209, pos: 0.0, \n",
      "At least it isn't a horrible book.\n",
      "compound: 0.431, neg: 0.0, neu: 0.637, pos: 0.363, \n",
      ":) and :D\n",
      "compound: 0.7925, neg: 0.0, neu: 0.124, pos: 0.876, \n",
      "\n",
      "compound: 0.0, neg: 0.0, neu: 0.0, pos: 0.0, \n",
      "Today was cool\n",
      "compound: 0.3182, neg: 0.0, neu: 0.465, pos: 0.535, \n",
      "This was dope!\n",
      "compound: 0.0, neg: 0.0, neu: 1.0, pos: 0.0, \n",
      "This was pathetic!\n",
      "compound: -0.6114, neg: 0.666, neu: 0.334, pos: 0.0, \n",
      "This kinda was creepy! But there were a lot of lol moments\n",
      "compound: 0.4753, neg: 0.0, neu: 0.764, pos: 0.236, \n",
      "This was one of the worst movies I've seen, despite awesome reviews.\n",
      "compound: -0.8123, neg: 0.425, neu: 0.575, pos: 0.0, \n",
      "Unbelievably bad acting!!\n",
      "compound: -0.6572, neg: 0.686, neu: 0.314, pos: 0.0, \n",
      "Poor narration.\n",
      "compound: -0.4767, neg: 0.756, neu: 0.244, pos: 0.0, \n",
      "VERY poor production.\n",
      "compound: -0.6281, neg: 0.674, neu: 0.326, pos: 0.0, \n",
      "The movie was poor.\n",
      "compound: -0.4767, neg: 0.508, neu: 0.492, pos: 0.0, \n",
      "Very bad show.\n",
      "compound: -0.5849, neg: 0.655, neu: 0.345, pos: 0.0, \n",
      "VERY bad indeed.\n",
      "compound: -0.6732, neg: 0.694, neu: 0.306, pos: 0.0, \n",
      "VERY BAD video.\n",
      "compound: -0.7398, neg: 0.724, neu: 0.276, pos: 0.0, \n",
      "VERY BAD quality!\n",
      "compound: -0.7616, neg: 0.735, neu: 0.265, pos: 0.0, \n",
      "Trailer of Knock once\n",
      "compound: 0.0, neg: 0.0, neu: 1.0, pos: 0.0, \n",
      "This is a trailer of the new upcoming horror movie!!!!\n",
      "compound: -0.7067, neg: 0.378, neu: 0.622, pos: 0.0, \n"
     ]
    }
   ],
   "source": [
    "analyser = SentimentIntensityAnalyzer()\n",
    "for review in texts:\n",
    "    print(review)\n",
    "    sentiment_score = analyser.polarity_scores(review)\n",
    "    for i in sorted(sentiment_score):\n",
    "        print('{0}: {1}, '.format(i, sentiment_score[i]), end='')\n",
    "    print()"
   ]
  },
  {
   "cell_type": "code",
   "execution_count": 8,
   "metadata": {
    "collapsed": false
   },
   "outputs": [
    {
     "name": "stdout",
     "output_type": "stream",
     "text": [
      "This is good, catchy, and hillarious.\n",
      "compound: 0.4404\n",
      "\n",
      "This is intellectual, awesome, and hillarious!\n",
      "compound: 0.8268\n",
      "\n",
      "This is very intellectual, awesome, and hillarious.\n",
      "compound: 0.839\n",
      "\n",
      "This is VERY intellectual, awesome, and HILLARIOUS.\n",
      "compound: 0.886\n",
      "\n",
      "This is VERY intellectual, awesome, and HILLARIOUS!!!\n",
      "compound: 0.9057\n",
      "\n",
      "This is VERY intellectual, really awesome, and INCREDIBLY Hillarious!!!\n",
      "compound: 0.9103\n",
      "\n",
      "The movie was fine.\n",
      "compound: 0.2023\n",
      "\n",
      "The movie was a one time watch.\n",
      "compound: 0.0\n",
      "\n",
      "The plot was amazing, but the characters are boring and the dialog is not great.\n",
      "compound: -0.7176\n",
      "\n",
      "A really bad, horrible book.\n",
      "compound: -0.8211\n",
      "\n",
      "At least it isn't a horrible book.\n",
      "compound: 0.431\n",
      "\n",
      ":) and :D\n",
      "compound: 0.7925\n",
      "\n",
      "\n",
      "compound: 0.0\n",
      "\n",
      "Today was cool\n",
      "compound: 0.3182\n",
      "\n",
      "This was dope!\n",
      "compound: 0.0\n",
      "\n",
      "This was pathetic!\n",
      "compound: -0.6114\n",
      "\n",
      "This kinda was creepy! But there were a lot of lol moments\n",
      "compound: 0.4753\n",
      "\n",
      "This was one of the worst movies I've seen, despite awesome reviews.\n",
      "compound: -0.8123\n",
      "\n",
      "Unbelievably bad acting!!\n",
      "compound: -0.6572\n",
      "\n",
      "Poor narration.\n",
      "compound: -0.4767\n",
      "\n",
      "VERY poor production.\n",
      "compound: -0.6281\n",
      "\n",
      "The movie was poor.\n",
      "compound: -0.4767\n",
      "\n",
      "Very bad show.\n",
      "compound: -0.5849\n",
      "\n",
      "VERY bad indeed.\n",
      "compound: -0.6732\n",
      "\n",
      "VERY BAD video.\n",
      "compound: -0.7398\n",
      "\n",
      "VERY BAD quality!\n",
      "compound: -0.7616\n",
      "\n",
      "Trailer of Knock once\n",
      "compound: 0.0\n",
      "\n",
      "This is a trailer of the new upcoming horror movie!!!!\n",
      "compound: -0.7067\n",
      "\n",
      "-0.05856428571428569\n"
     ]
    }
   ],
   "source": [
    "# Compound socre is normalized score for each sentence\n",
    "# Average compound score is calculated for the entire video\n",
    "# Range is from -1 to +1\n",
    "\n",
    "sum1=0\n",
    "for review in texts:\n",
    "    print(review)\n",
    "    sentiment_score = analyser.polarity_scores(review)\n",
    "    sum1=sum1+sentiment_score['compound']\n",
    "    print('compound: ' + str(sentiment_score['compound']))\n",
    "    print()\n",
    "    \n",
    "avg=sum1/len(texts)\n",
    "print(avg)"
   ]
  },
  {
   "cell_type": "code",
   "execution_count": 9,
   "metadata": {
    "collapsed": false
   },
   "outputs": [
    {
     "name": "stdout",
     "output_type": "stream",
     "text": [
      "negative\n"
     ]
    }
   ],
   "source": [
    "# We classify videos as negative (<0), neutral (=0) and positive (>0)\n",
    "\n",
    "if avg<0:\n",
    "    print('negative')\n",
    "elif avg==0:\n",
    "    print('neutral')\n",
    "else:\n",
    "    print('positive')"
   ]
  },
  {
   "cell_type": "code",
   "execution_count": null,
   "metadata": {
    "collapsed": true
   },
   "outputs": [],
   "source": []
  }
 ],
 "metadata": {
  "kernelspec": {
   "display_name": "Python 3",
   "language": "python",
   "name": "python3"
  },
  "language_info": {
   "codemirror_mode": {
    "name": "ipython",
    "version": 3
   },
   "file_extension": ".py",
   "mimetype": "text/x-python",
   "name": "python",
   "nbconvert_exporter": "python",
   "pygments_lexer": "ipython3",
   "version": "3.6.0"
  }
 },
 "nbformat": 4,
 "nbformat_minor": 2
}
